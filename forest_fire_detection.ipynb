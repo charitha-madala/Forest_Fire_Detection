{
 "cells": [
  {
   "cell_type": "raw",
   "metadata": {},
   "source": [
    "Step1: Importing Libraries"
   ]
  },
  {
   "cell_type": "code",
   "execution_count": 1,
   "metadata": {},
   "outputs": [
    {
     "name": "stderr",
     "output_type": "stream",
     "text": [
      "Using TensorFlow backend.\n",
      "C:\\Users\\madal\\Anaconda3\\lib\\site-packages\\tensorflow\\python\\framework\\dtypes.py:516: FutureWarning: Passing (type, 1) or '1type' as a synonym of type is deprecated; in a future version of numpy, it will be understood as (type, (1,)) / '(1,)type'.\n",
      "  _np_qint8 = np.dtype([(\"qint8\", np.int8, 1)])\n",
      "C:\\Users\\madal\\Anaconda3\\lib\\site-packages\\tensorflow\\python\\framework\\dtypes.py:517: FutureWarning: Passing (type, 1) or '1type' as a synonym of type is deprecated; in a future version of numpy, it will be understood as (type, (1,)) / '(1,)type'.\n",
      "  _np_quint8 = np.dtype([(\"quint8\", np.uint8, 1)])\n",
      "C:\\Users\\madal\\Anaconda3\\lib\\site-packages\\tensorflow\\python\\framework\\dtypes.py:518: FutureWarning: Passing (type, 1) or '1type' as a synonym of type is deprecated; in a future version of numpy, it will be understood as (type, (1,)) / '(1,)type'.\n",
      "  _np_qint16 = np.dtype([(\"qint16\", np.int16, 1)])\n",
      "C:\\Users\\madal\\Anaconda3\\lib\\site-packages\\tensorflow\\python\\framework\\dtypes.py:519: FutureWarning: Passing (type, 1) or '1type' as a synonym of type is deprecated; in a future version of numpy, it will be understood as (type, (1,)) / '(1,)type'.\n",
      "  _np_quint16 = np.dtype([(\"quint16\", np.uint16, 1)])\n",
      "C:\\Users\\madal\\Anaconda3\\lib\\site-packages\\tensorflow\\python\\framework\\dtypes.py:520: FutureWarning: Passing (type, 1) or '1type' as a synonym of type is deprecated; in a future version of numpy, it will be understood as (type, (1,)) / '(1,)type'.\n",
      "  _np_qint32 = np.dtype([(\"qint32\", np.int32, 1)])\n",
      "C:\\Users\\madal\\Anaconda3\\lib\\site-packages\\tensorflow\\python\\framework\\dtypes.py:525: FutureWarning: Passing (type, 1) or '1type' as a synonym of type is deprecated; in a future version of numpy, it will be understood as (type, (1,)) / '(1,)type'.\n",
      "  np_resource = np.dtype([(\"resource\", np.ubyte, 1)])\n",
      "C:\\Users\\madal\\Anaconda3\\lib\\site-packages\\tensorboard\\compat\\tensorflow_stub\\dtypes.py:541: FutureWarning: Passing (type, 1) or '1type' as a synonym of type is deprecated; in a future version of numpy, it will be understood as (type, (1,)) / '(1,)type'.\n",
      "  _np_qint8 = np.dtype([(\"qint8\", np.int8, 1)])\n",
      "C:\\Users\\madal\\Anaconda3\\lib\\site-packages\\tensorboard\\compat\\tensorflow_stub\\dtypes.py:542: FutureWarning: Passing (type, 1) or '1type' as a synonym of type is deprecated; in a future version of numpy, it will be understood as (type, (1,)) / '(1,)type'.\n",
      "  _np_quint8 = np.dtype([(\"quint8\", np.uint8, 1)])\n",
      "C:\\Users\\madal\\Anaconda3\\lib\\site-packages\\tensorboard\\compat\\tensorflow_stub\\dtypes.py:543: FutureWarning: Passing (type, 1) or '1type' as a synonym of type is deprecated; in a future version of numpy, it will be understood as (type, (1,)) / '(1,)type'.\n",
      "  _np_qint16 = np.dtype([(\"qint16\", np.int16, 1)])\n",
      "C:\\Users\\madal\\Anaconda3\\lib\\site-packages\\tensorboard\\compat\\tensorflow_stub\\dtypes.py:544: FutureWarning: Passing (type, 1) or '1type' as a synonym of type is deprecated; in a future version of numpy, it will be understood as (type, (1,)) / '(1,)type'.\n",
      "  _np_quint16 = np.dtype([(\"quint16\", np.uint16, 1)])\n",
      "C:\\Users\\madal\\Anaconda3\\lib\\site-packages\\tensorboard\\compat\\tensorflow_stub\\dtypes.py:545: FutureWarning: Passing (type, 1) or '1type' as a synonym of type is deprecated; in a future version of numpy, it will be understood as (type, (1,)) / '(1,)type'.\n",
      "  _np_qint32 = np.dtype([(\"qint32\", np.int32, 1)])\n",
      "C:\\Users\\madal\\Anaconda3\\lib\\site-packages\\tensorboard\\compat\\tensorflow_stub\\dtypes.py:550: FutureWarning: Passing (type, 1) or '1type' as a synonym of type is deprecated; in a future version of numpy, it will be understood as (type, (1,)) / '(1,)type'.\n",
      "  np_resource = np.dtype([(\"resource\", np.ubyte, 1)])\n"
     ]
    }
   ],
   "source": [
    "from keras.models import Sequential\n",
    "from keras.layers import Dense\n",
    "from keras.layers import Conv2D\n",
    "from keras.layers import MaxPooling2D\n",
    "from keras.layers import Flatten"
   ]
  },
  {
   "cell_type": "raw",
   "metadata": {},
   "source": [
    "Step2:Initalizing the model"
   ]
  },
  {
   "cell_type": "code",
   "execution_count": 2,
   "metadata": {},
   "outputs": [],
   "source": [
    "model= Sequential()"
   ]
  },
  {
   "cell_type": "raw",
   "metadata": {},
   "source": [
    "Step3: Adding COnvolution layer"
   ]
  },
  {
   "cell_type": "code",
   "execution_count": 3,
   "metadata": {},
   "outputs": [
    {
     "name": "stderr",
     "output_type": "stream",
     "text": [
      "C:\\Users\\madal\\Anaconda3\\lib\\site-packages\\ipykernel_launcher.py:1: UserWarning: Update your `Conv2D` call to the Keras 2 API: `Conv2D(32, (3, 3), input_shape=(64, 64, 3..., activation=\"relu\")`\n",
      "  \"\"\"Entry point for launching an IPython kernel.\n"
     ]
    }
   ],
   "source": [
    "model.add(Conv2D(32,3,3,input_shape=(64,64,3),activation='relu'))\n",
    "#1st parameter in conv2D = no. of Feature detectors\n",
    "#2nd &3rd parmater = size of feat. Detect.\n",
    "#4th parameter = Expected input image shape\n",
    "#5th parameter =Activation "
   ]
  },
  {
   "cell_type": "raw",
   "metadata": {},
   "source": [
    "Step4:Adding Max pooling layer"
   ]
  },
  {
   "cell_type": "code",
   "execution_count": 4,
   "metadata": {},
   "outputs": [
    {
     "name": "stdout",
     "output_type": "stream",
     "text": [
      "WARNING:tensorflow:From C:\\Users\\madal\\Anaconda3\\lib\\site-packages\\keras\\backend\\tensorflow_backend.py:4070: The name tf.nn.max_pool is deprecated. Please use tf.nn.max_pool2d instead.\n",
      "\n"
     ]
    }
   ],
   "source": [
    "model.add(MaxPooling2D(pool_size=(2,2)))"
   ]
  },
  {
   "cell_type": "raw",
   "metadata": {},
   "source": [
    "Step5: Flatten"
   ]
  },
  {
   "cell_type": "code",
   "execution_count": 5,
   "metadata": {},
   "outputs": [],
   "source": [
    "model.add(Flatten())#converts ndimension to 1 Dimension"
   ]
  },
  {
   "cell_type": "code",
   "execution_count": 6,
   "metadata": {},
   "outputs": [
    {
     "name": "stdout",
     "output_type": "stream",
     "text": [
      "Model: \"sequential_1\"\n",
      "_________________________________________________________________\n",
      "Layer (type)                 Output Shape              Param #   \n",
      "=================================================================\n",
      "conv2d_1 (Conv2D)            (None, 62, 62, 32)        896       \n",
      "_________________________________________________________________\n",
      "max_pooling2d_1 (MaxPooling2 (None, 31, 31, 32)        0         \n",
      "_________________________________________________________________\n",
      "flatten_1 (Flatten)          (None, 30752)             0         \n",
      "=================================================================\n",
      "Total params: 896\n",
      "Trainable params: 896\n",
      "Non-trainable params: 0\n",
      "_________________________________________________________________\n"
     ]
    }
   ],
   "source": [
    "model.summary()"
   ]
  },
  {
   "cell_type": "raw",
   "metadata": {},
   "source": [
    "Step6: ANN layers"
   ]
  },
  {
   "cell_type": "code",
   "execution_count": 7,
   "metadata": {},
   "outputs": [
    {
     "name": "stderr",
     "output_type": "stream",
     "text": [
      "C:\\Users\\madal\\Anaconda3\\lib\\site-packages\\ipykernel_launcher.py:1: UserWarning: Update your `Dense` call to the Keras 2 API: `Dense(activation=\"relu\", units=128, kernel_initializer=\"random_uniform\")`\n",
      "  \"\"\"Entry point for launching an IPython kernel.\n"
     ]
    }
   ],
   "source": [
    "model.add(Dense(output_dim=128,activation='relu',init='random_uniform'))"
   ]
  },
  {
   "cell_type": "code",
   "execution_count": 8,
   "metadata": {},
   "outputs": [
    {
     "name": "stderr",
     "output_type": "stream",
     "text": [
      "C:\\Users\\madal\\Anaconda3\\lib\\site-packages\\ipykernel_launcher.py:1: UserWarning: Update your `Dense` call to the Keras 2 API: `Dense(activation=\"sigmoid\", units=1, kernel_initializer=\"random_uniform\")`\n",
      "  \"\"\"Entry point for launching an IPython kernel.\n"
     ]
    }
   ],
   "source": [
    "model.add(Dense(output_dim=1,activation='sigmoid',init='random_uniform'))"
   ]
  },
  {
   "cell_type": "code",
   "execution_count": 9,
   "metadata": {},
   "outputs": [
    {
     "name": "stdout",
     "output_type": "stream",
     "text": [
      "WARNING:tensorflow:From C:\\Users\\madal\\Anaconda3\\lib\\site-packages\\tensorflow\\python\\ops\\nn_impl.py:180: add_dispatch_support.<locals>.wrapper (from tensorflow.python.ops.array_ops) is deprecated and will be removed in a future version.\n",
      "Instructions for updating:\n",
      "Use tf.where in 2.0, which has the same broadcast rule as np.where\n"
     ]
    }
   ],
   "source": [
    "model.compile(optimizer='adam',loss='binary_crossentropy',metrics=['accuracy'])"
   ]
  },
  {
   "cell_type": "code",
   "execution_count": 10,
   "metadata": {},
   "outputs": [
    {
     "name": "stdout",
     "output_type": "stream",
     "text": [
      "Model: \"sequential_1\"\n",
      "_________________________________________________________________\n",
      "Layer (type)                 Output Shape              Param #   \n",
      "=================================================================\n",
      "conv2d_1 (Conv2D)            (None, 62, 62, 32)        896       \n",
      "_________________________________________________________________\n",
      "max_pooling2d_1 (MaxPooling2 (None, 31, 31, 32)        0         \n",
      "_________________________________________________________________\n",
      "flatten_1 (Flatten)          (None, 30752)             0         \n",
      "_________________________________________________________________\n",
      "dense_1 (Dense)              (None, 128)               3936384   \n",
      "_________________________________________________________________\n",
      "dense_2 (Dense)              (None, 1)                 129       \n",
      "=================================================================\n",
      "Total params: 3,937,409\n",
      "Trainable params: 3,937,409\n",
      "Non-trainable params: 0\n",
      "_________________________________________________________________\n"
     ]
    }
   ],
   "source": [
    "model.summary()"
   ]
  },
  {
   "cell_type": "code",
   "execution_count": 11,
   "metadata": {},
   "outputs": [],
   "source": [
    "from keras.preprocessing.image import ImageDataGenerator"
   ]
  },
  {
   "cell_type": "code",
   "execution_count": 12,
   "metadata": {},
   "outputs": [],
   "source": [
    "train_datagen=ImageDataGenerator(rescale=1./255,shear_range=0.2,zoom_range=0.2,horizontal_flip=True)\n",
    "test_datagen= ImageDataGenerator(rescale=1./255)"
   ]
  },
  {
   "cell_type": "code",
   "execution_count": 13,
   "metadata": {},
   "outputs": [
    {
     "name": "stdout",
     "output_type": "stream",
     "text": [
      "Found 427 images belonging to 2 classes.\n",
      "Found 139 images belonging to 2 classes.\n"
     ]
    }
   ],
   "source": [
    "x_train=train_datagen.flow_from_directory(r'C:\\Users\\madal\\Downloads\\Forest fire detection dataset\\Train_set',target_size=(64,64),batch_size=32,class_mode='binary')\n",
    "x_test= test_datagen.flow_from_directory(r'C:\\Users\\madal\\Downloads\\Forest fire detection dataset\\Test_set',target_size=(64,64),batch_size=32,class_mode='binary')"
   ]
  },
  {
   "cell_type": "code",
   "execution_count": 14,
   "metadata": {
    "scrolled": true
   },
   "outputs": [
    {
     "name": "stdout",
     "output_type": "stream",
     "text": [
      "{'Forest': 0, 'Forestfire': 1}\n"
     ]
    }
   ],
   "source": [
    "print(x_train.class_indices)"
   ]
  },
  {
   "cell_type": "code",
   "execution_count": 15,
   "metadata": {
    "scrolled": false
   },
   "outputs": [
    {
     "name": "stderr",
     "output_type": "stream",
     "text": [
      "C:\\Users\\madal\\Anaconda3\\lib\\site-packages\\ipykernel_launcher.py:1: UserWarning: The semantics of the Keras 2 argument `steps_per_epoch` is not the same as the Keras 1 argument `samples_per_epoch`. `steps_per_epoch` is the number of batches to draw from the generator at each epoch. Basically steps_per_epoch = samples_per_epoch/batch_size. Similarly `nb_val_samples`->`validation_steps` and `val_samples`->`steps` arguments have changed. Update your method calls accordingly.\n",
      "  \"\"\"Entry point for launching an IPython kernel.\n",
      "C:\\Users\\madal\\Anaconda3\\lib\\site-packages\\ipykernel_launcher.py:1: UserWarning: Update your `fit_generator` call to the Keras 2 API: `fit_generator(<keras.pre..., epochs=50, validation_data=<keras.pre..., steps_per_epoch=13, validation_steps=139)`\n",
      "  \"\"\"Entry point for launching an IPython kernel.\n"
     ]
    },
    {
     "name": "stdout",
     "output_type": "stream",
     "text": [
      "WARNING:tensorflow:From C:\\Users\\madal\\Anaconda3\\lib\\site-packages\\keras\\backend\\tensorflow_backend.py:422: The name tf.global_variables is deprecated. Please use tf.compat.v1.global_variables instead.\n",
      "\n",
      "Epoch 1/50\n",
      "13/13 [==============================] - 226s 17s/step - loss: 0.7368 - accuracy: 0.6253 - val_loss: 0.6302 - val_accuracy: 0.6331\n",
      "Epoch 2/50\n",
      "13/13 [==============================] - 238s 18s/step - loss: 0.3618 - accuracy: 0.8380 - val_loss: 0.3576 - val_accuracy: 0.8702\n",
      "Epoch 3/50\n",
      "13/13 [==============================] - 243s 19s/step - loss: 0.3176 - accuracy: 0.8709 - val_loss: 0.6709 - val_accuracy: 0.7277\n",
      "Epoch 4/50\n",
      "13/13 [==============================] - 228s 18s/step - loss: 0.3299 - accuracy: 0.8380 - val_loss: 0.4508 - val_accuracy: 0.8049\n",
      "Epoch 5/50\n",
      "13/13 [==============================] - 217s 17s/step - loss: 0.2582 - accuracy: 0.8894 - val_loss: 0.3850 - val_accuracy: 0.8420\n",
      "Epoch 6/50\n",
      "13/13 [==============================] - 219s 17s/step - loss: 0.2305 - accuracy: 0.9091 - val_loss: 0.2366 - val_accuracy: 0.8701\n",
      "Epoch 7/50\n",
      "13/13 [==============================] - 222s 17s/step - loss: 0.2375 - accuracy: 0.8962 - val_loss: 0.2155 - val_accuracy: 0.8645\n",
      "Epoch 8/50\n",
      "13/13 [==============================] - 217s 17s/step - loss: 0.1611 - accuracy: 0.9418 - val_loss: 0.4535 - val_accuracy: 0.9202\n",
      "Epoch 9/50\n",
      "13/13 [==============================] - 212s 16s/step - loss: 0.1597 - accuracy: 0.9367 - val_loss: 0.0877 - val_accuracy: 0.9288\n",
      "Epoch 10/50\n",
      "13/13 [==============================] - 216s 17s/step - loss: 0.1957 - accuracy: 0.9087 - val_loss: 0.1295 - val_accuracy: 0.8990\n",
      "Epoch 11/50\n",
      "13/13 [==============================] - 217s 17s/step - loss: 0.1634 - accuracy: 0.9316 - val_loss: 0.5700 - val_accuracy: 0.8495\n",
      "Epoch 12/50\n",
      "13/13 [==============================] - 217s 17s/step - loss: 0.1306 - accuracy: 0.9570 - val_loss: 0.2328 - val_accuracy: 0.8767\n",
      "Epoch 13/50\n",
      "13/13 [==============================] - 214s 16s/step - loss: 0.1706 - accuracy: 0.9266 - val_loss: 0.2523 - val_accuracy: 0.8635\n",
      "Epoch 14/50\n",
      "13/13 [==============================] - 209s 16s/step - loss: 0.1383 - accuracy: 0.9443 - val_loss: 0.3632 - val_accuracy: 0.8699\n",
      "Epoch 15/50\n",
      "13/13 [==============================] - 212s 16s/step - loss: 0.1179 - accuracy: 0.9494 - val_loss: 0.1986 - val_accuracy: 0.8565\n",
      "Epoch 16/50\n",
      "13/13 [==============================] - 223s 17s/step - loss: 0.1253 - accuracy: 0.9443 - val_loss: 0.2336 - val_accuracy: 0.9065\n",
      "Epoch 17/50\n",
      "13/13 [==============================] - 223s 17s/step - loss: 0.1175 - accuracy: 0.9392 - val_loss: 0.4053 - val_accuracy: 0.8355\n",
      "Epoch 18/50\n",
      "13/13 [==============================] - 228s 18s/step - loss: 0.0990 - accuracy: 0.9595 - val_loss: 0.3557 - val_accuracy: 0.8769\n",
      "Epoch 19/50\n",
      "13/13 [==============================] - 224s 17s/step - loss: 0.1142 - accuracy: 0.9443 - val_loss: 0.3891 - val_accuracy: 0.8707\n",
      "Epoch 20/50\n",
      "13/13 [==============================] - 228s 18s/step - loss: 0.1075 - accuracy: 0.9591 - val_loss: 0.1538 - val_accuracy: 0.8990\n",
      "Epoch 21/50\n",
      "13/13 [==============================] - 221s 17s/step - loss: 0.1029 - accuracy: 0.9572 - val_loss: 0.1964 - val_accuracy: 0.8920\n",
      "Epoch 22/50\n",
      "13/13 [==============================] - 225s 17s/step - loss: 0.1033 - accuracy: 0.9663 - val_loss: 0.5728 - val_accuracy: 0.8987\n",
      "Epoch 23/50\n",
      "13/13 [==============================] - 223s 17s/step - loss: 0.0929 - accuracy: 0.9595 - val_loss: 1.0243 - val_accuracy: 0.8073\n",
      "Epoch 24/50\n",
      "13/13 [==============================] - 231s 18s/step - loss: 0.1082 - accuracy: 0.9544 - val_loss: 0.3777 - val_accuracy: 0.8122\n",
      "Epoch 25/50\n",
      "13/13 [==============================] - 224s 17s/step - loss: 0.1180 - accuracy: 0.9519 - val_loss: 0.5465 - val_accuracy: 0.8197\n",
      "Epoch 26/50\n",
      "13/13 [==============================] - 240s 18s/step - loss: 0.0780 - accuracy: 0.9679 - val_loss: 0.7164 - val_accuracy: 0.8418\n",
      "Epoch 27/50\n",
      "13/13 [==============================] - 226s 17s/step - loss: 0.0701 - accuracy: 0.9784 - val_loss: 0.4543 - val_accuracy: 0.8345\n",
      "Epoch 28/50\n",
      "13/13 [==============================] - 227s 17s/step - loss: 0.0622 - accuracy: 0.9797 - val_loss: 0.5895 - val_accuracy: 0.8267\n",
      "Epoch 29/50\n",
      "13/13 [==============================] - 241s 19s/step - loss: 0.0642 - accuracy: 0.9722 - val_loss: 0.8066 - val_accuracy: 0.8207\n",
      "Epoch 30/50\n",
      "13/13 [==============================] - 228s 18s/step - loss: 0.0559 - accuracy: 0.9760 - val_loss: 0.0833 - val_accuracy: 0.8560\n",
      "Epoch 31/50\n",
      "13/13 [==============================] - 219s 17s/step - loss: 0.0787 - accuracy: 0.9652 - val_loss: 0.2860 - val_accuracy: 0.8704\n",
      "Epoch 32/50\n",
      "13/13 [==============================] - 229s 18s/step - loss: 0.0662 - accuracy: 0.9722 - val_loss: 0.9159 - val_accuracy: 0.8345\n",
      "Epoch 33/50\n",
      "13/13 [==============================] - 237s 18s/step - loss: 0.0551 - accuracy: 0.9823 - val_loss: 0.4291 - val_accuracy: 0.8858\n",
      "Epoch 34/50\n",
      "13/13 [==============================] - 243s 19s/step - loss: 0.0407 - accuracy: 0.9904 - val_loss: 0.1038 - val_accuracy: 0.8425\n",
      "Epoch 35/50\n",
      "13/13 [==============================] - 237s 18s/step - loss: 0.0752 - accuracy: 0.9626 - val_loss: 0.1919 - val_accuracy: 0.8987\n",
      "Epoch 36/50\n",
      "13/13 [==============================] - 247s 19s/step - loss: 0.0390 - accuracy: 0.9904 - val_loss: 0.2075 - val_accuracy: 0.8343\n",
      "Epoch 37/50\n",
      "13/13 [==============================] - 249s 19s/step - loss: 0.0376 - accuracy: 0.9873 - val_loss: 0.5615 - val_accuracy: 0.8492\n",
      "Epoch 38/50\n",
      "13/13 [==============================] - 246s 19s/step - loss: 0.0248 - accuracy: 0.9975 - val_loss: 0.7696 - val_accuracy: 0.8417\n",
      "Epoch 39/50\n",
      "13/13 [==============================] - 248s 19s/step - loss: 0.0575 - accuracy: 0.9848 - val_loss: 0.7927 - val_accuracy: 0.8342\n",
      "Epoch 40/50\n",
      "13/13 [==============================] - 241s 19s/step - loss: 0.0570 - accuracy: 0.9823 - val_loss: 0.7803 - val_accuracy: 0.8345\n",
      "Epoch 41/50\n",
      "13/13 [==============================] - 232s 18s/step - loss: 0.0287 - accuracy: 0.9924 - val_loss: 0.3274 - val_accuracy: 0.8851\n",
      "Epoch 42/50\n",
      "13/13 [==============================] - 215s 17s/step - loss: 0.0418 - accuracy: 0.9848 - val_loss: 1.4686 - val_accuracy: 0.8412\n",
      "Epoch 43/50\n",
      "13/13 [==============================] - 215s 17s/step - loss: 0.0468 - accuracy: 0.9797 - val_loss: 0.7790 - val_accuracy: 0.8847\n",
      "Epoch 44/50\n",
      "13/13 [==============================] - 214s 16s/step - loss: 0.0351 - accuracy: 0.9924 - val_loss: 0.6028 - val_accuracy: 0.8858\n",
      "Epoch 45/50\n",
      "13/13 [==============================] - 211s 16s/step - loss: 0.0925 - accuracy: 0.9646 - val_loss: 0.0189 - val_accuracy: 0.8922\n",
      "Epoch 46/50\n",
      "13/13 [==============================] - 218s 17s/step - loss: 0.0463 - accuracy: 0.9848 - val_loss: 0.6195 - val_accuracy: 0.8348\n",
      "Epoch 47/50\n",
      "13/13 [==============================] - 223s 17s/step - loss: 0.0477 - accuracy: 0.9772 - val_loss: 0.6849 - val_accuracy: 0.8560\n",
      "Epoch 48/50\n",
      "13/13 [==============================] - 248s 19s/step - loss: 0.0345 - accuracy: 0.9873 - val_loss: 0.1861 - val_accuracy: 0.8858\n",
      "Epoch 49/50\n",
      "13/13 [==============================] - 249s 19s/step - loss: 0.0193 - accuracy: 0.9952 - val_loss: 0.2984 - val_accuracy: 0.9277\n",
      "Epoch 50/50\n",
      "13/13 [==============================] - 244s 19s/step - loss: 0.0361 - accuracy: 0.9924 - val_loss: 0.2999 - val_accuracy: 0.8925\n"
     ]
    },
    {
     "data": {
      "text/plain": [
       "<keras.callbacks.callbacks.History at 0x28a7433ed08>"
      ]
     },
     "execution_count": 15,
     "metadata": {},
     "output_type": "execute_result"
    }
   ],
   "source": [
    "model.fit_generator(x_train,samples_per_epoch=419,epochs=50,validation_data=x_test,nb_val_samples=139)"
   ]
  },
  {
   "cell_type": "code",
   "execution_count": 16,
   "metadata": {
    "scrolled": true
   },
   "outputs": [],
   "source": [
    "model.save('ffdm_cnn.h5')"
   ]
  },
  {
   "cell_type": "code",
   "execution_count": null,
   "metadata": {},
   "outputs": [],
   "source": []
  }
 ],
 "metadata": {
  "kernelspec": {
   "display_name": "Python 3",
   "language": "python",
   "name": "python3"
  },
  "language_info": {
   "codemirror_mode": {
    "name": "ipython",
    "version": 3
   },
   "file_extension": ".py",
   "mimetype": "text/x-python",
   "name": "python",
   "nbconvert_exporter": "python",
   "pygments_lexer": "ipython3",
   "version": "3.7.6"
  }
 },
 "nbformat": 4,
 "nbformat_minor": 2
}
