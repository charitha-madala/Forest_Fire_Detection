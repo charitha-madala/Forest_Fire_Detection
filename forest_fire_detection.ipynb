{
 "cells": [
  {
   "cell_type": "raw",
   "metadata": {},
   "source": [
    "Step1: Importing Libraries"
   ]
  },
  {
   "cell_type": "code",
   "execution_count": 1,
   "metadata": {},
   "outputs": [
    {
     "name": "stderr",
     "output_type": "stream",
     "text": [
      "Using TensorFlow backend.\n"
     ]
    }
   ],
   "source": [
    "from keras.models import Sequential\n",
    "from keras.layers import Dense\n",
    "from keras.layers import Conv2D\n",
    "from keras.layers import MaxPooling2D\n",
    "from keras.layers import Flatten"
   ]
  },
  {
   "cell_type": "raw",
   "metadata": {},
   "source": [
    "Step2:Initalizing the model"
   ]
  },
  {
   "cell_type": "code",
   "execution_count": 2,
   "metadata": {},
   "outputs": [
    {
     "name": "stdout",
     "output_type": "stream",
     "text": [
      "WARNING:tensorflow:From C:\\Users\\Manoj\\Anaconda3\\lib\\site-packages\\keras\\backend\\tensorflow_backend.py:74: The name tf.get_default_graph is deprecated. Please use tf.compat.v1.get_default_graph instead.\n",
      "\n"
     ]
    }
   ],
   "source": [
    "model= Sequential()"
   ]
  },
  {
   "cell_type": "raw",
   "metadata": {},
   "source": [
    "Step3: Adding COnvolution layer"
   ]
  },
  {
   "cell_type": "code",
   "execution_count": 3,
   "metadata": {},
   "outputs": [
    {
     "name": "stdout",
     "output_type": "stream",
     "text": [
      "WARNING:tensorflow:From C:\\Users\\Manoj\\Anaconda3\\lib\\site-packages\\keras\\backend\\tensorflow_backend.py:517: The name tf.placeholder is deprecated. Please use tf.compat.v1.placeholder instead.\n",
      "\n"
     ]
    },
    {
     "name": "stderr",
     "output_type": "stream",
     "text": [
      "C:\\Users\\Manoj\\Anaconda3\\lib\\site-packages\\ipykernel_launcher.py:1: UserWarning: Update your `Conv2D` call to the Keras 2 API: `Conv2D(32, (3, 3), input_shape=(64, 64, 3..., activation=\"relu\")`\n",
      "  \"\"\"Entry point for launching an IPython kernel.\n"
     ]
    },
    {
     "name": "stdout",
     "output_type": "stream",
     "text": [
      "WARNING:tensorflow:From C:\\Users\\Manoj\\Anaconda3\\lib\\site-packages\\keras\\backend\\tensorflow_backend.py:4138: The name tf.random_uniform is deprecated. Please use tf.random.uniform instead.\n",
      "\n"
     ]
    }
   ],
   "source": [
    "model.add(Conv2D(32,3,3,input_shape=(64,64,3),activation='relu'))\n",
    "#1st parameter in conv2D = no. of Feature detectors\n",
    "#2nd &3rd parmater = size of feat. Detect.\n",
    "#4th parameter = Expected input image shape\n",
    "#5th parameter =Activation "
   ]
  },
  {
   "cell_type": "raw",
   "metadata": {},
   "source": [
    "Step4:Adding Max pooling layer"
   ]
  },
  {
   "cell_type": "code",
   "execution_count": 4,
   "metadata": {},
   "outputs": [
    {
     "name": "stdout",
     "output_type": "stream",
     "text": [
      "WARNING:tensorflow:From C:\\Users\\Manoj\\Anaconda3\\lib\\site-packages\\keras\\backend\\tensorflow_backend.py:3976: The name tf.nn.max_pool is deprecated. Please use tf.nn.max_pool2d instead.\n",
      "\n"
     ]
    }
   ],
   "source": [
    "model.add(MaxPooling2D(pool_size=(2,2)))"
   ]
  },
  {
   "cell_type": "raw",
   "metadata": {},
   "source": [
    "Step5: Flatten"
   ]
  },
  {
   "cell_type": "code",
   "execution_count": 5,
   "metadata": {},
   "outputs": [],
   "source": [
    "model.add(Flatten())#converts ndimension to 1 Dimension"
   ]
  },
  {
   "cell_type": "code",
   "execution_count": 6,
   "metadata": {},
   "outputs": [
    {
     "name": "stdout",
     "output_type": "stream",
     "text": [
      "_________________________________________________________________\n",
      "Layer (type)                 Output Shape              Param #   \n",
      "=================================================================\n",
      "conv2d_1 (Conv2D)            (None, 62, 62, 32)        896       \n",
      "_________________________________________________________________\n",
      "max_pooling2d_1 (MaxPooling2 (None, 31, 31, 32)        0         \n",
      "_________________________________________________________________\n",
      "flatten_1 (Flatten)          (None, 30752)             0         \n",
      "=================================================================\n",
      "Total params: 896\n",
      "Trainable params: 896\n",
      "Non-trainable params: 0\n",
      "_________________________________________________________________\n"
     ]
    }
   ],
   "source": [
    "model.summary()"
   ]
  },
  {
   "cell_type": "raw",
   "metadata": {},
   "source": [
    "Step6: ANN layers"
   ]
  },
  {
   "cell_type": "code",
   "execution_count": 7,
   "metadata": {},
   "outputs": [
    {
     "name": "stderr",
     "output_type": "stream",
     "text": [
      "C:\\Users\\Manoj\\Anaconda3\\lib\\site-packages\\ipykernel_launcher.py:1: UserWarning: Update your `Dense` call to the Keras 2 API: `Dense(activation=\"relu\", units=128, kernel_initializer=\"random_uniform\")`\n",
      "  \"\"\"Entry point for launching an IPython kernel.\n"
     ]
    }
   ],
   "source": [
    "model.add(Dense(output_dim=128,activation='relu',init='random_uniform'))"
   ]
  },
  {
   "cell_type": "code",
   "execution_count": 8,
   "metadata": {},
   "outputs": [
    {
     "name": "stderr",
     "output_type": "stream",
     "text": [
      "C:\\Users\\Manoj\\Anaconda3\\lib\\site-packages\\ipykernel_launcher.py:1: UserWarning: Update your `Dense` call to the Keras 2 API: `Dense(activation=\"sigmoid\", units=1, kernel_initializer=\"random_uniform\")`\n",
      "  \"\"\"Entry point for launching an IPython kernel.\n"
     ]
    }
   ],
   "source": [
    "model.add(Dense(output_dim=1,activation='sigmoid',init='random_uniform'))"
   ]
  },
  {
   "cell_type": "code",
   "execution_count": 9,
   "metadata": {},
   "outputs": [
    {
     "name": "stdout",
     "output_type": "stream",
     "text": [
      "WARNING:tensorflow:From C:\\Users\\Manoj\\Anaconda3\\lib\\site-packages\\keras\\optimizers.py:790: The name tf.train.Optimizer is deprecated. Please use tf.compat.v1.train.Optimizer instead.\n",
      "\n",
      "WARNING:tensorflow:From C:\\Users\\Manoj\\Anaconda3\\lib\\site-packages\\keras\\backend\\tensorflow_backend.py:3376: The name tf.log is deprecated. Please use tf.math.log instead.\n",
      "\n",
      "WARNING:tensorflow:From C:\\Users\\Manoj\\Anaconda3\\lib\\site-packages\\tensorflow\\python\\ops\\nn_impl.py:180: add_dispatch_support.<locals>.wrapper (from tensorflow.python.ops.array_ops) is deprecated and will be removed in a future version.\n",
      "Instructions for updating:\n",
      "Use tf.where in 2.0, which has the same broadcast rule as np.where\n"
     ]
    }
   ],
   "source": [
    "model.compile(optimizer='adam',loss='binary_crossentropy',metrics=['accuracy'])"
   ]
  },
  {
   "cell_type": "code",
   "execution_count": 10,
   "metadata": {},
   "outputs": [
    {
     "name": "stdout",
     "output_type": "stream",
     "text": [
      "_________________________________________________________________\n",
      "Layer (type)                 Output Shape              Param #   \n",
      "=================================================================\n",
      "conv2d_1 (Conv2D)            (None, 62, 62, 32)        896       \n",
      "_________________________________________________________________\n",
      "max_pooling2d_1 (MaxPooling2 (None, 31, 31, 32)        0         \n",
      "_________________________________________________________________\n",
      "flatten_1 (Flatten)          (None, 30752)             0         \n",
      "_________________________________________________________________\n",
      "dense_1 (Dense)              (None, 128)               3936384   \n",
      "_________________________________________________________________\n",
      "dense_2 (Dense)              (None, 1)                 129       \n",
      "=================================================================\n",
      "Total params: 3,937,409\n",
      "Trainable params: 3,937,409\n",
      "Non-trainable params: 0\n",
      "_________________________________________________________________\n"
     ]
    }
   ],
   "source": [
    "model.summary()"
   ]
  },
  {
   "cell_type": "code",
   "execution_count": 11,
   "metadata": {},
   "outputs": [],
   "source": [
    "from keras.preprocessing.image import ImageDataGenerator"
   ]
  },
  {
   "cell_type": "code",
   "execution_count": 12,
   "metadata": {},
   "outputs": [],
   "source": [
    "train_datagen=ImageDataGenerator(rescale=1./255,shear_range=0.2,zoom_range=0.2,horizontal_flip=True)\n",
    "test_datagen= ImageDataGenerator(rescale=1./255)"
   ]
  },
  {
   "cell_type": "code",
   "execution_count": 13,
   "metadata": {},
   "outputs": [
    {
     "name": "stdout",
     "output_type": "stream",
     "text": [
      "Found 419 images belonging to 2 classes.\n",
      "Found 139 images belonging to 2 classes.\n"
     ]
    }
   ],
   "source": [
    "x_train=train_datagen.flow_from_directory(r'Forest fire detection dataset\\Train_set',target_size=(64,64),batch_size=32,class_mode='binary')\n",
    "x_test= test_datagen.flow_from_directory(r'Forest fire detection dataset\\Test_set',target_size=(64,64),batch_size=32,class_mode='binary')"
   ]
  },
  {
   "cell_type": "code",
   "execution_count": 14,
   "metadata": {},
   "outputs": [
    {
     "name": "stdout",
     "output_type": "stream",
     "text": [
      "{'Forest': 0, 'Forestfire': 1}\n"
     ]
    }
   ],
   "source": [
    "print(x_train.class_indices)"
   ]
  },
  {
   "cell_type": "code",
   "execution_count": 15,
   "metadata": {
    "scrolled": true
   },
   "outputs": [
    {
     "name": "stderr",
     "output_type": "stream",
     "text": [
      "C:\\Users\\Manoj\\Anaconda3\\lib\\site-packages\\ipykernel_launcher.py:1: UserWarning: The semantics of the Keras 2 argument `steps_per_epoch` is not the same as the Keras 1 argument `samples_per_epoch`. `steps_per_epoch` is the number of batches to draw from the generator at each epoch. Basically steps_per_epoch = samples_per_epoch/batch_size. Similarly `nb_val_samples`->`validation_steps` and `val_samples`->`steps` arguments have changed. Update your method calls accordingly.\n",
      "  \"\"\"Entry point for launching an IPython kernel.\n",
      "C:\\Users\\Manoj\\Anaconda3\\lib\\site-packages\\ipykernel_launcher.py:1: UserWarning: Update your `fit_generator` call to the Keras 2 API: `fit_generator(<keras_pre..., epochs=50, validation_data=<keras_pre..., steps_per_epoch=13, validation_steps=139)`\n",
      "  \"\"\"Entry point for launching an IPython kernel.\n"
     ]
    },
    {
     "name": "stdout",
     "output_type": "stream",
     "text": [
      "WARNING:tensorflow:From C:\\Users\\Manoj\\Anaconda3\\lib\\site-packages\\keras\\backend\\tensorflow_backend.py:986: The name tf.assign_add is deprecated. Please use tf.compat.v1.assign_add instead.\n",
      "\n",
      "Epoch 1/50\n",
      "13/13 [==============================] - 677s 52s/step - loss: 0.5752 - acc: 0.6947 - val_loss: 0.3500 - val_acc: 0.8846\n",
      "Epoch 2/50\n",
      "13/13 [==============================] - 709s 55s/step - loss: 0.3037 - acc: 0.8937 - val_loss: 0.3684 - val_acc: 0.8490\n",
      "Epoch 3/50\n",
      "13/13 [==============================] - 369s 28s/step - loss: 0.2653 - acc: 0.8769 - val_loss: 0.3061 - val_acc: 0.8780\n",
      "Epoch 4/50\n",
      "13/13 [==============================] - 382s 29s/step - loss: 0.2973 - acc: 0.8529 - val_loss: 0.2392 - val_acc: 0.8912\n",
      "Epoch 5/50\n",
      "13/13 [==============================] - 353s 27s/step - loss: 0.2027 - acc: 0.9251 - val_loss: 0.3169 - val_acc: 0.8775\n",
      "Epoch 6/50\n",
      "13/13 [==============================] - 323s 25s/step - loss: 0.2074 - acc: 0.9227 - val_loss: 0.4618 - val_acc: 0.8346\n",
      "Epoch 7/50\n",
      "13/13 [==============================] - 322s 25s/step - loss: 0.1370 - acc: 0.9468 - val_loss: 0.4482 - val_acc: 0.8689\n",
      "Epoch 8/50\n",
      "13/13 [==============================] - 324s 25s/step - loss: 0.1690 - acc: 0.9202 - val_loss: 0.6167 - val_acc: 0.8293\n",
      "Epoch 9/50\n",
      "13/13 [==============================] - 329s 25s/step - loss: 0.2627 - acc: 0.8963 - val_loss: 0.5751 - val_acc: 0.8127\n",
      "Epoch 10/50\n",
      "13/13 [==============================] - 332s 26s/step - loss: 0.1574 - acc: 0.9420 - val_loss: 0.4270 - val_acc: 0.8702\n",
      "Epoch 11/50\n",
      "13/13 [==============================] - 347s 27s/step - loss: 0.1862 - acc: 0.9204 - val_loss: 0.2550 - val_acc: 0.9065\n",
      "Epoch 12/50\n",
      "13/13 [==============================] - 344s 26s/step - loss: 0.1687 - acc: 0.9347 - val_loss: 0.2020 - val_acc: 0.9135\n",
      "Epoch 13/50\n",
      "13/13 [==============================] - 343s 26s/step - loss: 0.1739 - acc: 0.9083 - val_loss: 0.1980 - val_acc: 0.9140\n",
      "Epoch 14/50\n",
      "13/13 [==============================] - 369s 28s/step - loss: 0.1629 - acc: 0.9323 - val_loss: 0.1968 - val_acc: 0.9132\n",
      "Epoch 15/50\n",
      "13/13 [==============================] - 345s 27s/step - loss: 0.1538 - acc: 0.9351 - val_loss: 0.3941 - val_acc: 0.8705\n",
      "Epoch 16/50\n",
      "13/13 [==============================] - 328s 25s/step - loss: 0.1010 - acc: 0.9637 - val_loss: 0.4629 - val_acc: 0.8557\n",
      "Epoch 17/50\n",
      "13/13 [==============================] - 338s 26s/step - loss: 0.0995 - acc: 0.9613 - val_loss: 0.6626 - val_acc: 0.8210\n",
      "Epoch 18/50\n",
      "13/13 [==============================] - 358s 28s/step - loss: 0.1310 - acc: 0.9492 - val_loss: 0.3920 - val_acc: 0.8915\n",
      "Epoch 19/50\n",
      "13/13 [==============================] - 327s 25s/step - loss: 0.0923 - acc: 0.9662 - val_loss: 0.3313 - val_acc: 0.9135\n",
      "Epoch 20/50\n",
      "13/13 [==============================] - 339s 26s/step - loss: 0.0849 - acc: 0.9662 - val_loss: 0.4091 - val_acc: 0.8925\n",
      "Epoch 21/50\n",
      "13/13 [==============================] - 348s 27s/step - loss: 0.0764 - acc: 0.9637 - val_loss: 0.3248 - val_acc: 0.8990\n",
      "Epoch 22/50\n",
      "13/13 [==============================] - 323s 25s/step - loss: 0.0902 - acc: 0.9637 - val_loss: 0.2979 - val_acc: 0.9148\n",
      "Epoch 23/50\n",
      "13/13 [==============================] - 328s 25s/step - loss: 0.0640 - acc: 0.9710 - val_loss: 0.3089 - val_acc: 0.9132\n",
      "Epoch 24/50\n",
      "13/13 [==============================] - 324s 25s/step - loss: 0.1118 - acc: 0.9589 - val_loss: 0.2915 - val_acc: 0.9060\n",
      "Epoch 25/50\n",
      "13/13 [==============================] - 327s 25s/step - loss: 0.0765 - acc: 0.9782 - val_loss: 0.4135 - val_acc: 0.8920\n",
      "Epoch 26/50\n",
      "13/13 [==============================] - 323s 25s/step - loss: 0.0581 - acc: 0.9807 - val_loss: 0.2950 - val_acc: 0.9134\n",
      "Epoch 27/50\n",
      "13/13 [==============================] - 322s 25s/step - loss: 0.1141 - acc: 0.9494 - val_loss: 0.1860 - val_acc: 0.9140\n",
      "Epoch 28/50\n",
      "13/13 [==============================] - 321s 25s/step - loss: 0.1271 - acc: 0.9444 - val_loss: 0.2041 - val_acc: 0.9067\n",
      "Epoch 29/50\n",
      "13/13 [==============================] - 376s 29s/step - loss: 0.1094 - acc: 0.9591 - val_loss: 0.2193 - val_acc: 0.9207\n",
      "Epoch 30/50\n",
      "13/13 [==============================] - 655s 50s/step - loss: 0.0785 - acc: 0.9831 - val_loss: 0.5051 - val_acc: 0.8492\n",
      "Epoch 31/50\n",
      "13/13 [==============================] - 654s 50s/step - loss: 0.0605 - acc: 0.9807 - val_loss: 0.2265 - val_acc: 0.9279\n",
      "Epoch 32/50\n",
      "13/13 [==============================] - 670s 52s/step - loss: 0.1231 - acc: 0.9277 - val_loss: 0.2711 - val_acc: 0.8992\n",
      "Epoch 33/50\n",
      "13/13 [==============================] - 640s 49s/step - loss: 0.1516 - acc: 0.9468 - val_loss: 0.2017 - val_acc: 0.9280\n",
      "Epoch 34/50\n",
      "13/13 [==============================] - 653s 50s/step - loss: 0.0954 - acc: 0.9613 - val_loss: 0.2250 - val_acc: 0.9277\n",
      "Epoch 35/50\n",
      "13/13 [==============================] - 676s 52s/step - loss: 0.0564 - acc: 0.9831 - val_loss: 0.5146 - val_acc: 0.8420\n",
      "Epoch 36/50\n",
      "13/13 [==============================] - 729s 56s/step - loss: 0.0528 - acc: 0.9831 - val_loss: 0.2844 - val_acc: 0.9279\n",
      "Epoch 37/50\n",
      "13/13 [==============================] - 674s 52s/step - loss: 0.0434 - acc: 0.9831 - val_loss: 0.2530 - val_acc: 0.9352\n",
      "Epoch 38/50\n",
      "13/13 [==============================] - 662s 51s/step - loss: 0.0519 - acc: 0.9782 - val_loss: 0.4217 - val_acc: 0.8777\n",
      "Epoch 39/50\n",
      "13/13 [==============================] - 664s 51s/step - loss: 0.0307 - acc: 0.9927 - val_loss: 0.4976 - val_acc: 0.8715\n",
      "Epoch 40/50\n",
      "13/13 [==============================] - 657s 51s/step - loss: 0.0517 - acc: 0.9807 - val_loss: 0.3349 - val_acc: 0.9207\n",
      "Epoch 41/50\n",
      "13/13 [==============================] - 667s 51s/step - loss: 0.0257 - acc: 0.9952 - val_loss: 0.3273 - val_acc: 0.9284\n",
      "Epoch 42/50\n",
      "13/13 [==============================] - 665s 51s/step - loss: 0.0244 - acc: 0.9927 - val_loss: 0.4199 - val_acc: 0.8982\n",
      "Epoch 43/50\n",
      "13/13 [==============================] - 663s 51s/step - loss: 0.0412 - acc: 0.9832 - val_loss: 0.5707 - val_acc: 0.8562\n",
      "Epoch 44/50\n",
      "13/13 [==============================] - 658s 51s/step - loss: 0.0242 - acc: 0.9927 - val_loss: 0.4613 - val_acc: 0.8772\n",
      "Epoch 45/50\n",
      "13/13 [==============================] - 664s 51s/step - loss: 0.0288 - acc: 0.9879 - val_loss: 0.2776 - val_acc: 0.9280\n",
      "Epoch 46/50\n",
      "13/13 [==============================] - 664s 51s/step - loss: 0.0189 - acc: 0.9976 - val_loss: 0.3290 - val_acc: 0.9351\n",
      "Epoch 47/50\n",
      "13/13 [==============================] - 664s 51s/step - loss: 0.0233 - acc: 0.9952 - val_loss: 0.3020 - val_acc: 0.9205\n",
      "Epoch 48/50\n",
      "13/13 [==============================] - 658s 51s/step - loss: 0.0152 - acc: 0.9976 - val_loss: 0.3043 - val_acc: 0.9220\n",
      "Epoch 49/50\n",
      "13/13 [==============================] - 578s 44s/step - loss: 0.0263 - acc: 0.9927 - val_loss: 0.5011 - val_acc: 0.9205\n",
      "Epoch 50/50\n",
      "13/13 [==============================] - 387s 30s/step - loss: 0.0244 - acc: 0.9976 - val_loss: 0.3882 - val_acc: 0.9067\n"
     ]
    },
    {
     "data": {
      "text/plain": [
       "<keras.callbacks.History at 0x1fa5e3d2108>"
      ]
     },
     "execution_count": 15,
     "metadata": {},
     "output_type": "execute_result"
    }
   ],
   "source": [
    "model.fit_generator(x_train,samples_per_epoch=419,epochs=50,validation_data=x_test,nb_val_samples=139)"
   ]
  },
  {
   "cell_type": "code",
   "execution_count": 16,
   "metadata": {},
   "outputs": [],
   "source": [
    "model.save('ffdm_cnn.h5')"
   ]
  },
  {
   "cell_type": "code",
   "execution_count": null,
   "metadata": {},
   "outputs": [],
   "source": []
  }
 ],
 "metadata": {
  "kernelspec": {
   "display_name": "Python 3",
   "language": "python",
   "name": "python3"
  },
  "language_info": {
   "codemirror_mode": {
    "name": "ipython",
    "version": 3
   },
   "file_extension": ".py",
   "mimetype": "text/x-python",
   "name": "python",
   "nbconvert_exporter": "python",
   "pygments_lexer": "ipython3",
   "version": "3.7.4"
  }
 },
 "nbformat": 4,
 "nbformat_minor": 2
}
